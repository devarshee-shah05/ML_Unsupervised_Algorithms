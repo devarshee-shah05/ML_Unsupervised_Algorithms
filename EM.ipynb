{
 "cells": [
  {
   "attachments": {},
   "cell_type": "markdown",
   "metadata": {},
   "source": [
    "# Problem- Problem of latent variables for maximum likelihood"
   ]
  },
  {
   "attachments": {},
   "cell_type": "markdown",
   "metadata": {},
   "source": [
    "# Expectation-Maximization Algorithm \n",
    "- Used to find latent variable  (which is not directly observed)."
   ]
  },
  {
   "attachments": {},
   "cell_type": "markdown",
   "metadata": {},
   "source": [
    "### Steps involved in EM-Algo:\n",
    "1. Initially, a set of initial values are considered of incomplete data...containing null values.\n",
    "2. E-step- means to guess/predict the missing/incomplete values.\n",
    "3. Maximisation step or M-step- Here, we use the complete data generated in precending e-step toupdate the values.\n",
    "4. Now check if values are converging/not\n",
    "- If converging than stop.\n",
    "- Otherwise, repeat step 2 and 3 till the convergence occurs."
   ]
  },
  {
   "attachments": {},
   "cell_type": "markdown",
   "metadata": {},
   "source": [
    "### Usage:\n",
    "1. Used to fill missing data.\n",
    "2. Used for unsupervised clustering in CV.\n",
    "3. Used to discover values of latent variable.\n",
    "4. Used in NLP.\n",
    "5. image captioning."
   ]
  },
  {
   "attachments": {},
   "cell_type": "markdown",
   "metadata": {},
   "source": [
    "### Advantages:\n",
    "1. With each iteration,likelihood increases.\n",
    "2. E-step and M-step are easy to implement.\n",
    "3. The solution of M-step exists in closed form.\n",
    "\n",
    "### Dis-Advantages:\n",
    "1. Slow Convergence.\n",
    "2. Makes convergence to local optima only.\n",
    "3. It requires forward and backward probabilities; both."
   ]
  },
  {
   "attachments": {},
   "cell_type": "markdown",
   "metadata": {},
   "source": [
    "![](pic7.png)"
   ]
  },
  {
   "attachments": {},
   "cell_type": "markdown",
   "metadata": {},
   "source": [
    "# Code Bits"
   ]
  },
  {
   "cell_type": "code",
   "execution_count": 1,
   "metadata": {},
   "outputs": [],
   "source": [
    "from numpy import hstack # hstack() function is used to stack the sequence of input arrays horizontally to make a single array.\n",
    "from numpy.random import normal # Numpy random normal function allows us to create normally distributed data, while specifying important parameters like the mean and standard deviation\n",
    "import matplotlib.pyplot as plt"
   ]
  },
  {
   "cell_type": "code",
   "execution_count": 2,
   "metadata": {},
   "outputs": [],
   "source": [
    "sample1 = normal(loc=20, scale=5, size= 4000)\n",
    "sample2 = normal(loc=40, scale=5, size= 8000)"
   ]
  },
  {
   "cell_type": "code",
   "execution_count": 3,
   "metadata": {},
   "outputs": [],
   "source": [
    "sample = hstack((sample1,sample2))"
   ]
  },
  {
   "cell_type": "code",
   "execution_count": 4,
   "metadata": {},
   "outputs": [
    {
     "data": {
      "text/plain": [
       "(array([0.00023045, 0.00076815, 0.00161312, 0.00215082, 0.00268853,\n",
       "        0.00453209, 0.00530024, 0.00914099, 0.01252085, 0.01497893,\n",
       "        0.01966465, 0.02112414, 0.02327496, 0.02534897, 0.02404311,\n",
       "        0.0255026 , 0.02411992, 0.02273725, 0.02020236, 0.01405715,\n",
       "        0.01305856, 0.01037003, 0.00921781, 0.01083092, 0.0142876 ,\n",
       "        0.01474849, 0.02127777, 0.02711571, 0.03425951, 0.03994382,\n",
       "        0.04670355, 0.04962252, 0.05584454, 0.05092838, 0.05284875,\n",
       "        0.04724125, 0.03994382, 0.03180143, 0.02527215, 0.01766746,\n",
       "        0.01198315, 0.00914099, 0.00629883, 0.00261171, 0.00207401,\n",
       "        0.0015363 , 0.00046089, 0.00015363, 0.00023045, 0.00030726]),\n",
       " array([ 4.38842008,  5.47327697,  6.55813387,  7.64299076,  8.72784766,\n",
       "         9.81270456, 10.89756145, 11.98241835, 13.06727524, 14.15213214,\n",
       "        15.23698903, 16.32184593, 17.40670282, 18.49155972, 19.57641661,\n",
       "        20.66127351, 21.7461304 , 22.8309873 , 23.91584419, 25.00070109,\n",
       "        26.08555798, 27.17041488, 28.25527177, 29.34012867, 30.42498556,\n",
       "        31.50984246, 32.59469935, 33.67955625, 34.76441314, 35.84927004,\n",
       "        36.93412693, 38.01898383, 39.10384072, 40.18869762, 41.27355451,\n",
       "        42.35841141, 43.4432683 , 44.5281252 , 45.61298209, 46.69783899,\n",
       "        47.78269588, 48.86755278, 49.95240967, 51.03726657, 52.12212346,\n",
       "        53.20698036, 54.29183725, 55.37669415, 56.46155105, 57.54640794,\n",
       "        58.63126484]),\n",
       " <BarContainer object of 50 artists>)"
      ]
     },
     "execution_count": 4,
     "metadata": {},
     "output_type": "execute_result"
    },
    {
     "data": {
      "image/png": "[encoded data removed]",
      "text/plain": [
       "<Figure size 432x288 with 1 Axes>"
      ]
     },
     "metadata": {
      "needs_background": "light"
     },
     "output_type": "display_data"
    }
   ],
   "source": [
    "# A histogram displays numerical data by grouping data into \"bins\" of equal width. \n",
    "# Each bin is plotted as a bar whose height corresponds to how many data points are in that bin. \n",
    "# Bins are also sometimes called \"intervals\", \"classes\", or \"buckets\".\n",
    "plt.hist(sample, bins=50, density=True)"
   ]
  },
  {
   "cell_type": "code",
   "execution_count": 10,
   "metadata": {},
   "outputs": [],
   "source": [
    "from sklearn.mixture import GaussianMixture"
   ]
  },
  {
   "cell_type": "code",
   "execution_count": 11,
   "metadata": {},
   "outputs": [],
   "source": [
    "sample = sample.reshape((len(sample),1))"
   ]
  },
  {
   "cell_type": "code",
   "execution_count": 13,
   "metadata": {},
   "outputs": [],
   "source": [
    "model = GaussianMixture(n_components=2, init_params='random')"
   ]
  },
  {
   "cell_type": "code",
   "execution_count": 14,
   "metadata": {},
   "outputs": [
    {
     "data": {
      "text/plain": [
       "GaussianMixture(init_params='random', n_components=2)"
      ]
     },
     "execution_count": 14,
     "metadata": {},
     "output_type": "execute_result"
    }
   ],
   "source": [
    "model.fit(sample)"
   ]
  },
  {
   "cell_type": "code",
   "execution_count": 16,
   "metadata": {},
   "outputs": [],
   "source": [
    "# predicting latent values\n",
    "y1 = model.predict(sample)"
   ]
  },
  {
   "cell_type": "code",
   "execution_count": 18,
   "metadata": {},
   "outputs": [
    {
     "name": "stdout",
     "output_type": "stream",
     "text": [
      "[0 0 0 0 0 0 0 0 0 0 0 0 0 0 0 0 0 0 0 0 0 0 0 0 0 0 0 0 0 0 0 0 0 0 0 0 0\n",
      " 0 0 0 0 0 0 0 0 0 0 0 0 0 0 0 0 0 0 0 0 0 0 0 0 0 0 0 0 0 0 0 0 0 0 0 0 0\n",
      " 0 0 0 0 0 0]\n"
     ]
    }
   ],
   "source": [
    "print(y1[:80])"
   ]
  },
  {
   "cell_type": "code",
   "execution_count": 19,
   "metadata": {},
   "outputs": [
    {
     "name": "stdout",
     "output_type": "stream",
     "text": [
      "[0 0 0 ... 1 1 1]\n"
     ]
    }
   ],
   "source": [
    "print(y1[:-80])"
   ]
  }
 ],
 "metadata": {
  "kernelspec": {
   "display_name": "base",
   "language": "python",
   "name": "python3"
  },
  "language_info": {
   "codemirror_mode": {
    "name": "ipython",
    "version": 3
   },
   "file_extension": ".py",
   "mimetype": "text/x-python",
   "name": "python",
   "nbconvert_exporter": "python",
   "pygments_lexer": "ipython3",
   "version": "3.9.12"
  },
  "orig_nbformat": 4,
  "vscode": {
   "interpreter": {
    "hash": "e646e3513d9b507ac942b38379c7c22444e9458dd8d251339d12aef3346bcb59"
   }
  }
 },
 "nbformat": 4,
 "nbformat_minor": 2
}
